{
 "cells": [
  {
   "cell_type": "code",
   "execution_count": 8,
   "id": "009d4a91",
   "metadata": {},
   "outputs": [
    {
     "name": "stdout",
     "output_type": "stream",
     "text": [
      "type your namejava\n"
     ]
    }
   ],
   "source": [
    "name=input(\"type your name\")"
   ]
  },
  {
   "cell_type": "code",
   "execution_count": 9,
   "id": "3e0b8d7b",
   "metadata": {},
   "outputs": [
    {
     "data": {
      "text/plain": [
       "'jva'"
      ]
     },
     "execution_count": 9,
     "metadata": {},
     "output_type": "execute_result"
    }
   ],
   "source": [
    "name[0]+name[len(name)//2]+name[-1]"
   ]
  },
  {
   "cell_type": "code",
   "execution_count": 11,
   "id": "88269bfb",
   "metadata": {},
   "outputs": [
    {
     "data": {
      "text/plain": [
       "2"
      ]
     },
     "execution_count": 11,
     "metadata": {},
     "output_type": "execute_result"
    }
   ],
   "source": [
    "len(name)//2\n"
   ]
  },
  {
   "cell_type": "code",
   "execution_count": 18,
   "id": "086c3080",
   "metadata": {},
   "outputs": [
    {
     "name": "stdout",
     "output_type": "stream",
     "text": [
      "type your name homepage\n"
     ]
    }
   ],
   "source": [
    "name=input(\"type your name \")\n"
   ]
  },
  {
   "cell_type": "code",
   "execution_count": 23,
   "id": "c26ea060",
   "metadata": {},
   "outputs": [
    {
     "data": {
      "text/plain": [
       "'epa'"
      ]
     },
     "execution_count": 23,
     "metadata": {},
     "output_type": "execute_result"
    }
   ],
   "source": [
    "name[len(name)//2-1]+name[len(name)//2]+name[len(name)//2+1]"
   ]
  },
  {
   "cell_type": "code",
   "execution_count": 24,
   "id": "8306bf8f",
   "metadata": {},
   "outputs": [
    {
     "name": "stdout",
     "output_type": "stream",
     "text": [
      "type your name abcd\n",
      "type your name efg\n"
     ]
    }
   ],
   "source": [
    "s1=input(\"type your name \")\n",
    "s2=input(\"type your name \")"
   ]
  },
  {
   "cell_type": "code",
   "execution_count": 26,
   "id": "384ee231",
   "metadata": {},
   "outputs": [
    {
     "data": {
      "text/plain": [
       "'abcd'"
      ]
     },
     "execution_count": 26,
     "metadata": {},
     "output_type": "execute_result"
    }
   ],
   "source": [
    "s1"
   ]
  },
  {
   "cell_type": "markdown",
   "id": "7457da78",
   "metadata": {},
   "source": [
    "## "
   ]
  },
  {
   "cell_type": "code",
   "execution_count": 27,
   "id": "fd1eaa5f",
   "metadata": {},
   "outputs": [
    {
     "data": {
      "text/plain": [
       "'efg'"
      ]
     },
     "execution_count": 27,
     "metadata": {},
     "output_type": "execute_result"
    }
   ],
   "source": [
    "s2"
   ]
  },
  {
   "cell_type": "code",
   "execution_count": 36,
   "id": "1245b24e",
   "metadata": {},
   "outputs": [
    {
     "data": {
      "text/plain": [
       "'aefgcd'"
      ]
     },
     "execution_count": 36,
     "metadata": {},
     "output_type": "execute_result"
    }
   ],
   "source": [
    "s1[0:len(s1)  //2-1]+s2+s1[len(s1)//2:]"
   ]
  },
  {
   "cell_type": "code",
   "execution_count": null,
   "id": "efe435da",
   "metadata": {},
   "outputs": [],
   "source": []
  }
 ],
 "metadata": {
  "kernelspec": {
   "display_name": "Python 3 (ipykernel)",
   "language": "python",
   "name": "python3"
  },
  "language_info": {
   "codemirror_mode": {
    "name": "ipython",
    "version": 3
   },
   "file_extension": ".py",
   "mimetype": "text/x-python",
   "name": "python",
   "nbconvert_exporter": "python",
   "pygments_lexer": "ipython3",
   "version": "3.9.13"
  }
 },
 "nbformat": 4,
 "nbformat_minor": 5
}
