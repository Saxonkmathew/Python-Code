{
 "cells": [
  {
   "cell_type": "code",
   "execution_count": 1,
   "id": "99a83342",
   "metadata": {},
   "outputs": [],
   "source": [
    "x=\"vvvqqvytyyyyy\""
   ]
  },
  {
   "cell_type": "code",
   "execution_count": 2,
   "id": "e6cd50fb",
   "metadata": {},
   "outputs": [],
   "source": [
    "x1=[]\n",
    "for y in range(len(x)):\n",
    "    if x[y] not in x1:\n",
    "        x1.append(x[y])"
   ]
  },
  {
   "cell_type": "code",
   "execution_count": 3,
   "id": "f2156042",
   "metadata": {},
   "outputs": [
    {
     "data": {
      "text/plain": [
       "['v', 'q', 'y', 't']"
      ]
     },
     "execution_count": 3,
     "metadata": {},
     "output_type": "execute_result"
    }
   ],
   "source": [
    "x1"
   ]
  },
  {
   "cell_type": "code",
   "execution_count": null,
   "id": "7117d116",
   "metadata": {},
   "outputs": [],
   "source": []
  }
 ],
 "metadata": {
  "kernelspec": {
   "display_name": "Python 3 (ipykernel)",
   "language": "python",
   "name": "python3"
  },
  "language_info": {
   "codemirror_mode": {
    "name": "ipython",
    "version": 3
   },
   "file_extension": ".py",
   "mimetype": "text/x-python",
   "name": "python",
   "nbconvert_exporter": "python",
   "pygments_lexer": "ipython3",
   "version": "3.9.13"
  }
 },
 "nbformat": 4,
 "nbformat_minor": 5
}
